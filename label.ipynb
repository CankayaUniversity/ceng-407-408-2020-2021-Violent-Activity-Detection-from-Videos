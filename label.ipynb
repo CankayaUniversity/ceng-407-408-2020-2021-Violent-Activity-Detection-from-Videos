{
  "nbformat": 4,
  "nbformat_minor": 0,
  "metadata": {
    "colab": {
      "name": "label.ipynb",
      "provenance": []
    },
    "kernelspec": {
      "name": "python3",
      "display_name": "Python 3"
    },
    "language_info": {
      "name": "python"
    }
  },
  "cells": [
    {
      "cell_type": "code",
      "metadata": {
        "id": "o9ftPIUeujYc"
      },
      "source": [
        "#Mount Drive\n",
        "\n",
        "from google.colab import drive\n",
        "drive.mount(\"/content/drive\")"
      ],
      "execution_count": null,
      "outputs": []
    },
    {
      "cell_type": "code",
      "metadata": {
        "id": "xHZHwrwNulAX"
      },
      "source": [
        "import cv2 as cv\n",
        "import numpy as np\n",
        "import glob\n",
        "from numpy import savetxt"
      ],
      "execution_count": null,
      "outputs": []
    },
    {
      "cell_type": "code",
      "metadata": {
        "id": "4KOCWq7VulIB"
      },
      "source": [
        "#This code has been  run  for different  'normal' and 'fight' videos dataset\n",
        "\n",
        "path = ('/path')  #Give a path for specific folder to read videos\n",
        "video_list = []\n",
        "VideoCounter = 0  #Video counter value holds number of videos\n",
        "videoid2 = 1\n",
        "videoid = 0\n",
        "sample = 0\n",
        "sample2 = 0\n",
        "sequence_arr = []\n",
        "labelArray = []\n",
        "\n",
        "\n",
        "def videopath():                 #In this  code segment videos is sending one by one to video frame function\n",
        "    global VideoCounter\n",
        "    i = 0\n",
        "    for video in glob.glob(path):\n",
        "        video_list.insert(VideoCounter, video)\n",
        "        VideoCounter = VideoCounter + 1\n",
        "    while i != VideoCounter:\n",
        "        video_frame(video_list[i])\n",
        "        sequence_arr.append([video_list[i], sample2])  #sample2 holds the number of sequences. Every turnaround, append the number of samples the sequence array\n",
        "        np.savetxt('Data_Sequence.txt', sequence_arr, fmt='%s')\n",
        "        i = i + 1\n",
        "\n",
        "\n",
        "def video_frame(video):\n",
        "    global videoid\n",
        "    print(video)\n",
        "    capture = cv.VideoCapture(video)   #Capture the video\n",
        "    ret, frame = capture.read()        #Getting frames from the video\n",
        "    hsv = np.zeros_like(frame)\n",
        "    hsv[..., 1] = 244\n",
        "    frameCounter = 0    #frame counter holds the value that frame we have\n",
        "    counter = 0  # video counter\n",
        "    videoid = videoid + 1\n",
        "    try:\n",
        "        while (1):\n",
        "            ret = capture.grab()  # grabing the frame\n",
        "            frameCounter = frameCounter + 1  # increment counter\n",
        "            if frameCounter % 5 == 2:  # display and detect only fifth of the frames,\n",
        "                ret, frame = capture.retrieve()  # decoding the frame\n",
        "                if ret:       #If the ret is true, video and videoid will send the video_frame Function\n",
        "                    ret2, frame2 = capture.read()   #video capture for the second frame\n",
        "                    video_label(video, videoid)   #call the video_label function\n",
        "\n",
        "                    if cv.waitKey(1) & 0xFF == ord('q'):\n",
        "                        break\n",
        "                else:\n",
        "                    return\n",
        "\n",
        "    except:\n",
        "        capture.release()\n",
        "\n",
        "\n",
        "def video_label(video, videoid): #videoid holds the number of videos\n",
        "    global videoid2\n",
        "    global sample      # sample holds the number of frames\n",
        "    global sample2  # sample2 holds the number of sequence (30)\n",
        "    sample = sample + 1\n",
        "    video_name = video\n",
        "    if (videoid == videoid2):\n",
        "        if (sample % 30 == 0):  #\n",
        "            labelArray.append([video_name, 1])  # 1 for fight, 0 for normal\n",
        "            label_arr = np.asarray(labelArray)   #every sequence append the label value 0 for normal videos 1 for fight videos\n",
        "            np.savetxt('Data_Label_Fight.txt', label_arr, fmt='%s')  #saving txt file for every label sequence\n",
        "            sample2 = sample2 + 1\n",
        "\n",
        "    else:\n",
        "        sample = 0  # assign sample the '0' value to pass the next video\n",
        "        sample2 = 0\n",
        "        videoid2 = videoid   #assign videoid2 to next video\n",
        "\n",
        "videopath()"
      ],
      "execution_count": null,
      "outputs": []
    }
  ]
}