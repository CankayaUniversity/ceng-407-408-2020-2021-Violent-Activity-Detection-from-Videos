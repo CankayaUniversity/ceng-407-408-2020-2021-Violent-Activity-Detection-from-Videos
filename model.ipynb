{
  "nbformat": 4,
  "nbformat_minor": 0,
  "metadata": {
    "colab": {
      "name": "model.ipynb",
      "provenance": [],
      "collapsed_sections": []
    },
    "kernelspec": {
      "name": "python3",
      "display_name": "Python 3"
    },
    "language_info": {
      "name": "python"
    },
    "accelerator": "GPU"
  },
  "cells": [
    {
      "cell_type": "code",
      "metadata": {
        "id": "R08BzgqZ0OUt",
        "colab": {
          "base_uri": "https://localhost:8080/"
        },
        "outputId": "4d849c62-8a00-4e2d-e16f-65e76ed4bf38"
      },
      "source": [
        "#Mount Drive\n",
        "\n",
        "from google.colab import drive\n",
        "drive.mount(\"/content/drive\")"
      ],
      "execution_count": 1,
      "outputs": [
        {
          "output_type": "stream",
          "text": [
            "Mounted at /content/drive\n"
          ],
          "name": "stdout"
        }
      ]
    },
    {
      "cell_type": "code",
      "metadata": {
        "id": "Fj1fMwUv0Ph0",
        "colab": {
          "base_uri": "https://localhost:8080/"
        },
        "outputId": "339e7304-c804-4c24-b46e-f870e5a29637"
      },
      "source": [
        "from zipfile import ZipFile\n",
        "file_name = \"/path/.zip\"\n",
        "\n",
        "with ZipFile(file_name,'r') as zip:\n",
        "   zip.extractall(\"/Videos\")\n",
        "   print('Done')"
      ],
      "execution_count": null,
      "outputs": [
        {
          "output_type": "stream",
          "text": [
            "Done\n"
          ],
          "name": "stdout"
        }
      ]
    },
    {
      "cell_type": "code",
      "metadata": {
        "id": "wLApONa68-AQ"
      },
      "source": [
        "import numpy as np\n",
        " \n",
        "#fight1= open(, \"r\")\n",
        "# Read the array from disk\n",
        "text_data = np.loadtxt(\"Dataset.txt\")\n",
        "\n",
        "# Note that this returned a 2D array!\n",
        "print (text_data.shape)\n",
        "\n",
        "# However, going back to 3D is easy if we know the \n",
        "# original shape of the array\n",
        "data_3D = text_data.reshape((2332,30,1000))\n",
        "#print (data_3D.shape)\n",
        "    \n",
        "# Just to check that they're the same...\n",
        "#print(data_3D)"
      ],
      "execution_count": null,
      "outputs": []
    },
    {
      "cell_type": "code",
      "metadata": {
        "id": "laLUCJBPkAst"
      },
      "source": [
        "print (data_3D.shape)\n",
        "print(data_3D)"
      ],
      "execution_count": null,
      "outputs": []
    },
    {
      "cell_type": "code",
      "metadata": {
        "id": "WRHaOjH-FP05"
      },
      "source": [
        "import numpy as np\n",
        " \n",
        "#fight1= open(, \"r\")\n",
        "# Read the array from disk\n",
        "label_fight_data = np.loadtxt(\"FightLabel.txt\" , dtype=np.str)\n",
        "label_normal_data = np.loadtxt(\"NormalLabel.txt\", dtype=np.str)\n",
        "\n",
        "dataset_label = np.vstack((label_fight_data, label_normal_data))\n",
        "\n",
        "print(dataset_label.shape)\n",
        "np.savetxt(\"Label.txt\",dataset_label, fmt='%s')\n",
        "\n",
        "# Note that this returned a 2D array!\n",
        "print (dataset_label)\n"
      ],
      "execution_count": null,
      "outputs": []
    },
    {
      "cell_type": "code",
      "metadata": {
        "id": "Pn40BV4Bw0kp"
      },
      "source": [
        "print(data_3D.shape)"
      ],
      "execution_count": null,
      "outputs": []
    },
    {
      "cell_type": "code",
      "metadata": {
        "id": "xt7NJU4ElvqW"
      },
      "source": [
        "import tensorflow as tf\n",
        "from tensorflow.keras.models import Sequential\n",
        "from tensorflow.keras.layers import Dense, Flatten, Softmax, MaxPool2D, Conv2D\n",
        "from tensorflow.keras.preprocessing import image\n",
        "import matplotlib.pyplot as plt\n",
        "import numpy as np\n",
        "import pandas as pd\n",
        "from sklearn.model_selection import train_test_split\n",
        "from tensorflow.keras.layers import Dropout # one of the best regularizers\\n\",\n",
        "from tensorflow.keras.regularizers import l1,l2,l1_l2\n",
        "from tensorflow.keras.optimizers import Adam, RMSprop, SGD"
      ],
      "execution_count": 5,
      "outputs": []
    },
    {
      "cell_type": "code",
      "metadata": {
        "id": "YZZvh3etla4l"
      },
      "source": [
        "import tensorflow as tf\n",
        "from tensorflow.keras.models import Sequential\n",
        "from tensorflow.keras.layers import Dense, Dropout, LSTM"
      ],
      "execution_count": 6,
      "outputs": []
    },
    {
      "cell_type": "code",
      "metadata": {
        "id": "1z7a0iC4qxDH"
      },
      "source": [
        "import numpy as np\n",
        " \n",
        "#fight1= open(, \"r\")\n",
        "# Read the array from disk\n",
        "dataset_label_array = np.loadtxt(\"LastLabel.txt\", dtype='str')\n",
        "\n",
        "# Note that this returned a 2D array!\n",
        "print (dataset_label_array.shape)\n"
      ],
      "execution_count": null,
      "outputs": []
    },
    {
      "cell_type": "code",
      "metadata": {
        "id": "eZKBb0mSrhea"
      },
      "source": [
        "print(dataset_label_array)"
      ],
      "execution_count": null,
      "outputs": []
    },
    {
      "cell_type": "code",
      "metadata": {
        "id": "nq5CfafPryjR"
      },
      "source": [
        "dataset_label = []\n",
        "with open('LastLabel.txt') as inf:\n",
        "    for line in inf:\n",
        "        parts = line.split() # split line into parts\n",
        "        if len(parts) > 1:   # if at least 2 parts/columns\n",
        "            dataset_label.append(int(parts[1]))\n",
        "            print (parts[1])   "
      ],
      "execution_count": null,
      "outputs": []
    },
    {
      "cell_type": "code",
      "metadata": {
        "id": "ujI_rGiCsSKw"
      },
      "source": [
        "print(dataset_label)"
      ],
      "execution_count": null,
      "outputs": []
    },
    {
      "cell_type": "code",
      "metadata": {
        "id": "Q3lhvBU_nr6o"
      },
      "source": [
        "X, y = data_3D, dataset_label"
      ],
      "execution_count": 12,
      "outputs": []
    },
    {
      "cell_type": "code",
      "metadata": {
        "id": "nWQXNfWWpEsQ"
      },
      "source": [
        "print(X)\n"
      ],
      "execution_count": null,
      "outputs": []
    },
    {
      "cell_type": "code",
      "metadata": {
        "id": "zvu8FlQzpK1x"
      },
      "source": [
        "print(y)"
      ],
      "execution_count": null,
      "outputs": []
    },
    {
      "cell_type": "code",
      "metadata": {
        "id": "WKPP2aTA1h2L"
      },
      "source": [
        "from sklearn.model_selection import train_test_split\n",
        "\n",
        "X_train, X_test, y_train, y_test = train_test_split(X, y, train_size=0.85, random_state=42)"
      ],
      "execution_count": 15,
      "outputs": []
    },
    {
      "cell_type": "code",
      "metadata": {
        "id": "iCTl4cTTCIqh"
      },
      "source": [
        "X_train, X_validation, y_train, y_validation = train_test_split(X_train, y_train, train_size=0.80, random_state=42)"
      ],
      "execution_count": 16,
      "outputs": []
    },
    {
      "cell_type": "code",
      "metadata": {
        "id": "NF9OPpOz-Rre"
      },
      "source": [
        "X_train = np.array(X_train)\n",
        "X_test = np.array(X_test)\n",
        "X_validation = np.array(X_validation)\n",
        "y_train = np.array(y_train)\n",
        "y_test = np.array(y_test)\n",
        "y_validation = np.array(y_validation)"
      ],
      "execution_count": 20,
      "outputs": []
    },
    {
      "cell_type": "code",
      "metadata": {
        "id": "AUBvqRP2B3D5"
      },
      "source": [
        "print(X_train.shape)\n",
        "print(X_test.shape)\n",
        "print(y_train.shape)\n",
        "print(y_test.shape)\n",
        "print(X_validation.shape)\n",
        "print(y_validation.shape)"
      ],
      "execution_count": null,
      "outputs": []
    },
    {
      "cell_type": "code",
      "metadata": {
        "id": "8CVl_CyPjOTj"
      },
      "source": [
        "from keras import backend as K\n",
        "\n",
        "def recall_m(y_true, y_pred):\n",
        "    true_positives = K.sum(K.round(K.clip(y_true * y_pred, 0, 1)))\n",
        "    possible_positives = K.sum(K.round(K.clip(y_true, 0, 1)))\n",
        "    recall = true_positives / (possible_positives + K.epsilon())\n",
        "    return recall\n",
        "\n",
        "def precision_m(y_true, y_pred):\n",
        "    true_positives = K.sum(K.round(K.clip(y_true * y_pred, 0, 1)))\n",
        "    predicted_positives = K.sum(K.round(K.clip(y_pred, 0, 1)))\n",
        "    precision = true_positives / (predicted_positives + K.epsilon())\n",
        "    return precision"
      ],
      "execution_count": 23,
      "outputs": []
    },
    {
      "cell_type": "code",
      "metadata": {
        "id": "hssFhL_zrRry"
      },
      "source": [
        "# model 1\n",
        "# lstm(128) -dense(64)- dense(32)\n",
        "# Adam learning rate = 1e-3, 1e-4\n",
        "\n",
        "# compile-----------------------\n",
        "# epoch = 50 - 100 - 150\n",
        "# batch_size = 10 - 16\n",
        "\n",
        "model = Sequential()\n",
        "model.add(LSTM(128, input_shape=(X_train.shape[1:]), activation= \"tanh\", recurrent_activation=\"sigmoid\",recurrent_dropout=0.0,unroll=False,use_bias=True))\n",
        "model.add(Dropout(0.2))\n",
        "\n",
        "model.add(Dense(64, activation='relu'))\n",
        "model.add(Dropout(0.5))\n",
        "\n",
        "model.add(Dense(32, activation='relu'))\n",
        "model.add(Dropout(0.5))\n",
        "\n",
        "model.add(Dense(2, activation='softmax'))\n",
        "\n",
        "model.summary()\n",
        "\n",
        "opt = tf.keras.optimizers.Adam(learning_rate=1e-3)\n",
        "\n",
        "model.compile(\n",
        "    loss='SparseCategoricalCrossentropy',\n",
        "    optimizer=opt,\n",
        "    metrics=['accuracy',precision_m, recall_m],\n",
        ")\n",
        "\n",
        "history = model.fit(X_train, y_train, epochs=50, batch_size=10, validation_data = (X_validation, y_validation))"
      ],
      "execution_count": null,
      "outputs": []
    },
    {
      "cell_type": "code",
      "metadata": {
        "id": "1zWkZptzriC0"
      },
      "source": [
        "# model 2\n",
        "#  lstm(128, return_sequence = true) - lstm(64) - dense(32) \n",
        "# Adam learning rate = 1e-3, 1e-4\n",
        "\n",
        "# compile-----------------------\n",
        "# epoch = 50 - 100 - 150\n",
        "# batch_size = 10 - 16\n",
        "\n",
        "model = Sequential()\n",
        "model.add(LSTM(128, input_shape=(X_train.shape[1:]),return_sequences = True, activation= \"tanh\", recurrent_activation=\"sigmoid\",recurrent_dropout=0.0,unroll=False,use_bias=True))\n",
        "model.add(Dropout(0.2))\n",
        "\n",
        "model.add(LSTM(64, input_shape=(X_train.shape[1:]), activation= \"tanh\", recurrent_activation=\"sigmoid\",recurrent_dropout=0.0,unroll=False,use_bias=True))\n",
        "model.add(Dropout(0.2))\n",
        "\n",
        "model.add(Dense(32, activation='relu'))\n",
        "model.add(Dropout(0.5))\n",
        "\n",
        "model.add(Dense(2, activation='softmax'))\n",
        "\n",
        "model.summary()\n",
        "\n",
        "opt = tf.keras.optimizers.Adam(learning_rate=1e-3)\n",
        "\n",
        "model.compile(\n",
        "    loss='SparseCategoricalCrossentropy',\n",
        "    optimizer=opt,\n",
        "    metrics=['accuracy',precision_m, recall_m],\n",
        ")\n",
        "\n",
        "history = model.fit(X_train, y_train, epochs=50, batch_size=10, validation_data = (X_validation, y_validation))"
      ],
      "execution_count": null,
      "outputs": []
    },
    {
      "cell_type": "code",
      "metadata": {
        "id": "9rUljWZIrmFk"
      },
      "source": [
        "# model 3\n",
        "# lstm(128) -  dense(100) -  dense(50)\n",
        "# Adam learning rate = 1e-3, 1e-4\n",
        "\n",
        "# compile-----------------------\n",
        "# epoch = 50 - 100 - 150\n",
        "# batch_size = 10 - 16\n",
        "\n",
        "model = Sequential()\n",
        "model.add(LSTM(128, input_shape=(X_train.shape[1:]),return_sequences = True, activation= \"tanh\", recurrent_activation=\"sigmoid\",recurrent_dropout=0.0,unroll=False,use_bias=True))\n",
        "model.add(Dropout(0.2))\n",
        "\n",
        "model.add(Dense(100, activation='relu'))\n",
        "model.add(Dropout(0.5))\n",
        "\n",
        "model.add(Dense(50, activation='relu'))\n",
        "model.add(Dropout(0.5))\n",
        "\n",
        "model.add(Dense(2, activation='softmax'))\n",
        "\n",
        "model.summary()\n",
        "\n",
        "opt = tf.keras.optimizers.Adam(learning_rate=1e-3)\n",
        "\n",
        "model.compile(\n",
        "    loss='SparseCategoricalCrossentropy',\n",
        "    optimizer=opt,\n",
        "    metrics=['accuracy',precision_m, recall_m],\n",
        ")\n",
        "\n",
        "history = model.fit(X_train, y_train, epochs=50, batch_size=10, validation_data = (X_validation, y_validation))"
      ],
      "execution_count": null,
      "outputs": []
    },
    {
      "cell_type": "code",
      "metadata": {
        "id": "OmozvjIruVsR"
      },
      "source": [
        "# test the model\n",
        "# evaluate the model\n",
        "loss, accuracy, precision, recall = model.evaluate(X_test, y_test, verbose=2)"
      ],
      "execution_count": null,
      "outputs": []
    },
    {
      "cell_type": "code",
      "metadata": {
        "id": "NHy0oUue2Nq5"
      },
      "source": [
        "import pandas as pd\n",
        "df = pd.DataFrame(history.history)\n",
        "df.head()\n",
        "loss_plot = df.plot(y = 'loss' , title = 'Loss vs Epochs', legend= False)\n",
        "loss_plot.set(xlabel='Epochs')\n",
        "        \n",
        "acc_plot = df.plot(y = 'accuracy' , title = 'Acc vs Epochs', legend= False)\n",
        "acc_plot.set(xlabel='Epochs')\n",
        "        \n",
        "loss_plot = df.plot(y = 'val_loss' , title = 'Loss vs Epochs', legend= False)\n",
        "loss_plot.set(xlabel='Epochs')\n",
        "acc_plot = df.plot(y = 'val_accuracy' , title = 'Acc vs Epochs', legend= False)\n",
        "acc_plot.set(xlabel='Epochs')"
      ],
      "execution_count": null,
      "outputs": []
    },
    {
      "cell_type": "code",
      "metadata": {
        "id": "EWxfO_j2fRiW"
      },
      "source": [
        "from sklearn.metrics import confusion_matrix\n",
        "import seaborn as sns\n",
        "import pandas as pd\n",
        "labels = [1, 0]\n",
        "test_pred_raw = model.predict(X_test)\n",
        "\n",
        "test_pred = np.argmax(test_pred_raw, axis=1)\n",
        "\n",
        "# Calculate the confusion matrix using sklearn.metrics\n",
        "\n",
        "cm = confusion_matrix(y_test, test_pred, labels)\n",
        "con_mat_df = pd.DataFrame(cm)\n",
        "print(cm)\n",
        "figure = plt.figure(figsize=(8, 8))\n",
        "sns.heatmap(con_mat_df, annot=True,cmap=plt.cm.Blues, fmt = 'd')\n",
        "plt.tight_layout()\n",
        "plt.ylabel('True label')\n",
        "plt.xlabel('Predicted label')\n",
        "plt.show()"
      ],
      "execution_count": null,
      "outputs": []
    }
  ]
}